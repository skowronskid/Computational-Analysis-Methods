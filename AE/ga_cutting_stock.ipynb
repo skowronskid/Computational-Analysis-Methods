{
 "cells": [
  {
   "attachments": {},
   "cell_type": "markdown",
   "metadata": {},
   "source": [
    "Podejście:\n",
    "- wygeneruj prostokat o najwiekszej wadze\n",
    "    - sprawdź czy jest w kole\n",
    "- wybierz chromosomy o największym zagęszczeniu środka (największa waga blisko środka)\n",
    "- mutacja - przesuń centra prostokątów w stronę centrum\n",
    "\n",
    "- wygeneruj prostokąt przy ściance randomowego prostokąta (pionowo lub poziomo)\n",
    "    - zacznij od największego\n",
    "    - sprawdź czy się mieści\n",
    "- wybierz chromosomy o największym zamieszczeniu\n",
    "- przesu centra prostokątów w stronę centrum ile się da\n",
    "\n",
    "\n"
   ]
  }
 ],
 "metadata": {
  "kernelspec": {
   "display_name": "mmlm",
   "language": "python",
   "name": "python3"
  },
  "language_info": {
   "name": "python",
   "version": "3.11.3"
  },
  "orig_nbformat": 4
 },
 "nbformat": 4,
 "nbformat_minor": 2
}

{
 "cells": [
  {
   "attachments": {},
   "cell_type": "markdown",
   "metadata": {},
   "source": [
    "Podejście:\n",
    "- wygeneruj randomowo ileś prostokątów o największej wartości\n",
    "- moga sie generowac z roznym obrotem\n",
    "- sprawdzaj czy sa w kole\n",
    "- sprawdzaj czy sie nie nakładają\n",
    "- po ilus probach generuj dla mniejszych, mniejszych\n",
    "- zacznij ewolucje\n",
    "    - mutacja to przesuniecie w strone srodka/zewnatrz/constant dwa kierunki\n",
    "    - crossowanie to  wymiana sie cwiartkami/połowami\n",
    "- po wykonaniu spróbuj wypelnic \n",
    "\n"
   ]
  }
 ],
 "metadata": {
  "kernelspec": {
   "display_name": "mmlm",
   "language": "python",
   "name": "python3"
  },
  "language_info": {
   "name": "python",
   "version": "3.11.3"
  },
  "orig_nbformat": 4
 },
 "nbformat": 4,
 "nbformat_minor": 2
}

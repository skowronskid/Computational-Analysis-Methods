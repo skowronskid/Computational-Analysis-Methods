{
 "cells": [
  {
   "attachments": {},
   "cell_type": "markdown",
   "metadata": {},
   "source": [
    "### MLP\n"
   ]
  },
  {
   "cell_type": "code",
   "execution_count": 9,
   "metadata": {},
   "outputs": [],
   "source": [
    "import numpy as np\n",
    "import pandas as pd\n",
    "import matplotlib.pyplot as plt\n",
    "\n",
    "from sklearn.metrics import mean_squared_error, f1_score\n",
    "from sklearn.model_selection import train_test_split"
   ]
  },
  {
   "cell_type": "code",
   "execution_count": 10,
   "metadata": {},
   "outputs": [],
   "source": [
    "\n",
    "class GA_MLP:\n",
    "\n",
    "    def __init__(self, input_dim, hidden_dims, output_dim, population_size, X, y):\n",
    "        self.input_dim = input_dim\n",
    "        self.hidden_dims = hidden_dims\n",
    "        self.output_dim = output_dim\n",
    "        self.structure = [self.input_dim] + self.hidden_dims + [self.output_dim]\n",
    "        \n",
    "        self.population_size = population_size\n",
    "        self.X = X\n",
    "        self.y = y\n",
    "        \n",
    "        self.generations_best_scores = []\n",
    "        self.generation_mean = []\n",
    "        self.best_mlp = None\n",
    "        self.best_value = -1\n",
    "        \n",
    "        self.generation_weights = [\n",
    "            [np.random.uniform(-1, 1, size=(prev_size, curr_size))for prev_size, curr_size in zip(self.structure[:-1], self.structure[1:])]\n",
    "            for _ in range(self.population_size)\n",
    "        ]\n",
    "        \n",
    "        self.generation_biases = [\n",
    "            [np.random.uniform(-1, 1, size=(1, curr_size)) for curr_size in self.structure[1:]]\n",
    "             for _ in range(self.population_size)\n",
    "        ]\n",
    "      \n",
    "        \n",
    "    def forward(self, inputs, weights, biases):\n",
    "        activations = inputs\n",
    "        for i in range(len(self.structure)-2):\n",
    "            output = activations @ weights[i] + biases[i]\n",
    "            activations = 1 / (1 + np.exp(-output))\n",
    "        result = activations @ weights[-1] + biases[-1]\n",
    "        return result\n",
    "    \n",
    "        \n",
    "        \n",
    "\n",
    "    def evolve(self, generations, mutation_coef, crossover_coef):\n",
    "        \n",
    "        for generation in range(1,generations+1):\n",
    "            if generation != 1 and (generation) % 10 == 0:\n",
    "                print(f\"{generation}/{generations} | best = {1/self.best_value:.3f} | mean = {1/self.generation_mean[-1]}\", end=\"\\r\")\n",
    "                \n",
    "            crossed_weights, crossed_biases = self.crossover(crossover_coef)\n",
    "            mutated_w, mutated_b = self.mutate(mutation_coef)\n",
    "            \n",
    "            population_w = self.generation_weights + crossed_weights + mutated_w\n",
    "            population_b = self.generation_biases + crossed_biases + mutated_b\n",
    "\n",
    "            # evaluation\n",
    "            scores = np.asarray([self.evaluate(population_w[i], population_b[i]) for i in range(len(population_w))])\n",
    "            self.generation_mean.append(np.mean(scores))\n",
    "            best_value_index = np.argmax(scores)\n",
    "            self.generations_best_scores.append(scores[best_value_index])\n",
    "            if scores[best_value_index] > self.best_value:\n",
    "                self.best_mlp = [population_w[best_value_index], population_b[best_value_index]]\n",
    "                self.best_value = scores[best_value_index]\n",
    "            \n",
    "            # elite\n",
    "            prob = scores/scores.sum()\n",
    "            choices = np.random.choice([i for i in range(len(population_w))], size=self.population_size, p=prob)\n",
    "            self.generation_weights = []\n",
    "            self.generation_biases = []\n",
    "            for choice in choices:\n",
    "                self.generation_weights.append(population_w[choice])\n",
    "                self.generation_biases.append(population_b[choice])\n",
    "            \n",
    "    \n",
    "    def evaluate(self, weights, biases):\n",
    "        pred = self.forward(self.X, weights, biases)\n",
    "        return 1/mean_squared_error(self.y, pred)\n",
    "\n",
    "\n",
    "\n",
    "    \n",
    "    def crossover(self, crossover_coef):\n",
    "        choices = np.random.choice(self.population_size, int(np.floor(crossover_coef*self.population_size)), replace=False)\n",
    "        parents_weights = []\n",
    "        parents_biases = []\n",
    "        for choice in choices:\n",
    "            parents_weights.append(self.generation_weights[choice])\n",
    "            parents_biases.append(self.generation_biases[choice])\n",
    "\n",
    "            \n",
    "        children_w = []\n",
    "        children_b = []\n",
    "        for i in range(0, len(parents_weights)-1, 2):\n",
    "            \n",
    "            split = np.random.randint(len(parents_weights[i])-1)\n",
    "            [child_1_w, child_2_w, child_1_b, child_2_b] = [[],[],[],[]]\n",
    "            \n",
    "            for j in range(len(parents_biases[i])):\n",
    "                if j <= split:\n",
    "                    child_1_w.append(parents_weights[i][j])\n",
    "                    child_2_w.append(parents_weights[i+1][j])\n",
    "                    \n",
    "                    child_1_b.append(parents_biases[i][j])\n",
    "                    child_2_b.append(parents_biases[i+1][j])\n",
    "                else:\n",
    "                    child_1_w.append(parents_weights[i+1][j])\n",
    "                    child_2_w.append(parents_weights[i][j])\n",
    "                    \n",
    "                    child_1_b.append(parents_biases[i+1][j])\n",
    "                    child_2_b.append(parents_biases[i][j])\n",
    "                    \n",
    "            children_w.append(child_1_w)\n",
    "            children_w.append(child_2_w)\n",
    "            \n",
    "            children_b.append(child_1_b)\n",
    "            children_b.append(child_2_b)\n",
    "        return children_w, children_b\n",
    "\n",
    "    \n",
    "    def mutate(self, mutation_coef):\n",
    "        choices = np.random.choice(self.population_size, int(np.floor(mutation_coef*self.population_size)), replace=False)\n",
    "        weights_for_mutation = []\n",
    "        biases_for_mutation = []\n",
    "        for choice in choices:\n",
    "            weights_for_mutation.append(self.generation_weights[choice])\n",
    "            biases_for_mutation.append(self.generation_biases[choice])\n",
    "        mutated_w = []\n",
    "        mutated_b = []\n",
    "        for i in range(len(weights_for_mutation)):\n",
    "            w = weights_for_mutation[i]\n",
    "            b = biases_for_mutation[i]\n",
    "            mutated_w.append([elem + np.random.normal(0,1,size=(elem.shape[0],elem.shape[1])) for elem in w])\n",
    "            mutated_b.append([elem + np.random.normal(0,1,size=(elem.shape[0],elem.shape[1])) for elem in b])\n",
    "        return mutated_w, mutated_b\n",
    "        \n",
    "    \n",
    "    "
   ]
  },
  {
   "cell_type": "code",
   "execution_count": 11,
   "metadata": {},
   "outputs": [],
   "source": [
    "df = pd.read_table(\"data/iris.data\", sep=\",\", header=None)\n",
    "df.iloc[:,4] = df.iloc[:,4].astype(\"category\").cat.codes\n",
    "X = df.iloc[:,:4]\n",
    "y = df.iloc[:,4]"
   ]
  },
  {
   "cell_type": "code",
   "execution_count": 12,
   "metadata": {},
   "outputs": [],
   "source": [
    "ga_mlp = GA_MLP(4, [10,10], 1, 100, X.values, y.values)"
   ]
  },
  {
   "cell_type": "code",
   "execution_count": 13,
   "metadata": {},
   "outputs": [
    {
     "name": "stdout",
     "output_type": "stream",
     "text": [
      "300/300 | best = 0.050 | mean = 0.07925797011178373\r"
     ]
    }
   ],
   "source": [
    "ga_mlp.evolve(300, 0.5, 0.2)"
   ]
  },
  {
   "cell_type": "code",
   "execution_count": 14,
   "metadata": {},
   "outputs": [
    {
     "data": {
      "text/plain": [
       "0.05029833631061061"
      ]
     },
     "execution_count": 14,
     "metadata": {},
     "output_type": "execute_result"
    }
   ],
   "source": [
    "1/ga_mlp.best_value"
   ]
  },
  {
   "cell_type": "code",
   "execution_count": 15,
   "metadata": {},
   "outputs": [
    {
     "data": {
      "text/plain": [
       "[<matplotlib.lines.Line2D at 0x7f825b4ea170>]"
      ]
     },
     "execution_count": 15,
     "metadata": {},
     "output_type": "execute_result"
    },
    {
     "data": {
      "image/png": "[encoded data removed]",
      "text/plain": [
       "<Figure size 640x480 with 1 Axes>"
      ]
     },
     "metadata": {},
     "output_type": "display_data"
    }
   ],
   "source": [
    "plt.plot(1/np.array(ga_mlp.generations_best_scores))\n",
    "plt.plot(1/np.array(ga_mlp.generation_mean))\n"
   ]
  }
 ],
 "metadata": {
  "kernelspec": {
   "display_name": "mio1",
   "language": "python",
   "name": "python3"
  },
  "language_info": {
   "codemirror_mode": {
    "name": "ipython",
    "version": 3
   },
   "file_extension": ".py",
   "mimetype": "text/x-python",
   "name": "python",
   "nbconvert_exporter": "python",
   "pygments_lexer": "ipython3",
   "version": "3.10.9"
  },
  "orig_nbformat": 4
 },
 "nbformat": 4,
 "nbformat_minor": 2
}
